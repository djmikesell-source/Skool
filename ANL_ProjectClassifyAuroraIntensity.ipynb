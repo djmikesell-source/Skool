{
  "nbformat": 4,
  "nbformat_minor": 0,
  "metadata": {
    "colab": {
      "provenance": [],
      "include_colab_link": true
    },
    "kernelspec": {
      "name": "python3",
      "display_name": "Python 3"
    },
    "language_info": {
      "name": "python"
    }
  },
  "cells": [
    {
      "cell_type": "markdown",
      "metadata": {
        "id": "view-in-github",
        "colab_type": "text"
      },
      "source": [
        "<a href=\"https://colab.research.google.com/github/djmikesell-source/Skool/blob/main/ANL_ProjectClassifyAuroraIntensity.ipynb\" target=\"_parent\"><img src=\"https://colab.research.google.com/assets/colab-badge.svg\" alt=\"Open In Colab\"/></a>"
      ]
    },
    {
      "cell_type": "markdown",
      "source": [
        "1. Read the data from the file and store it in a list\n",
        "(This part is done for you). You just need to run the code."
      ],
      "metadata": {
        "id": "3DKyNPcEVWwH"
      }
    },
    {
      "cell_type": "code",
      "source": [
        "import pandas as pd\n",
        "df = pd.read_csv(\"https://docs.google.com/spreadsheets/d/e/2PACX-1vRSG45CklRWr-Im6ES_prf5-h2zJwKENYguR-4bGHJkorztX-CWZmKMaeRl-NuvGbGOTmhmWlrn5Lxl/pub?output=csv \")\n",
        "kpIndices = df.Kp.tolist() #kpIndices stores the list of all the Kp Index\n",
        "numElements = len(kpIndices) #numElements stores the total number of elements stored in kpIndices"
      ],
      "metadata": {
        "id": "Dg7kq589L2wz"
      },
      "execution_count": 1,
      "outputs": []
    },
    {
      "cell_type": "markdown",
      "source": [
        "2. Print the type of `kpIndices` and the value of its first and last element"
      ],
      "metadata": {
        "id": "4KYd7-hwZ0SC"
      }
    },
    {
      "cell_type": "code",
      "source": [
        "print(kpIndices[2])\n",
        "print(kpIndices[0]) #Print the first element - What does python's indexing start at\n",
        "print(kpIndices[8]) #Print the last element - What index will call the last element"
      ],
      "metadata": {
        "id": "j--aNz7VaEsz",
        "colab": {
          "base_uri": "https://localhost:8080/"
        },
        "outputId": "94b6848d-9636-46b3-e06a-968b8b278e89"
      },
      "execution_count": 2,
      "outputs": [
        {
          "output_type": "stream",
          "name": "stdout",
          "text": [
            "1.333\n",
            "2.0\n",
            "0.667\n"
          ]
        }
      ]
    },
    {
      "cell_type": "markdown",
      "source": [
        "3. Calculate total number of days for which data is available. Store it in a variable `numDays`. Given, for every day 8 readings are available\n",
        ""
      ],
      "metadata": {
        "id": "SbjRxkaKpJcn"
      }
    },
    {
      "cell_type": "code",
      "source": [
        "numReadingPerDay = 8 #given\n",
        "#write your code here\n",
        "\n",
        "\n"
      ],
      "metadata": {
        "id": "zGuUZnK9pn5C"
      },
      "execution_count": null,
      "outputs": []
    },
    {
      "cell_type": "markdown",
      "source": [
        "2. Write the code to classify the aurora (7pts)"
      ],
      "metadata": {
        "id": "tY28O5xaaOJ0"
      }
    },
    {
      "cell_type": "code",
      "source": [
        "print(\"The average auroral intensity of each day of Jun 2022 are as follows:\")\n",
        "numDays = 2\n",
        "dayCount = 1\n",
        "dailyReadingCount = 1\n",
        "while(dayCount <= numDays):\n",
        "  sum = 0\n",
        "  #[2pts] Formulate the while loop condition\n",
        "  while(                                  ):\n",
        "    #[2pts] Calculate the sum of each day\n",
        "\n",
        "\n",
        "\n",
        "    dailyReadingCount += 1 #End of inner while loop\n",
        "\n",
        "  #[1pt] Calculate the avg\n",
        "\n",
        "\n",
        "\n",
        "  #[2pt] Classify the auroral intensity using if-elif-else\n",
        "\n",
        "\n",
        "\n",
        "\n",
        "\n",
        "\n",
        "\n",
        "\n",
        "\n",
        "\n",
        "\n",
        "\n",
        "  dayCount += 1 #End of outer while loop\n"
      ],
      "metadata": {
        "id": "nfNoAbWwbDvl",
        "outputId": "0dbdcf34-3f30-4711-cbc2-2c08faa323a1",
        "colab": {
          "base_uri": "https://localhost:8080/"
        }
      },
      "execution_count": 5,
      "outputs": [
        {
          "output_type": "stream",
          "name": "stdout",
          "text": [
            "The average auroral intensity of each day of Jun 2022 are as follows:\n"
          ]
        }
      ]
    }
  ]
}