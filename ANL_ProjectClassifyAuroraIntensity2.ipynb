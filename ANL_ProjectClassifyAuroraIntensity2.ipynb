{
  "nbformat": 4,
  "nbformat_minor": 0,
  "metadata": {
    "colab": {
      "provenance": [],
      "include_colab_link": true
    },
    "kernelspec": {
      "name": "python3",
      "display_name": "Python 3"
    },
    "language_info": {
      "name": "python"
    }
  },
  "cells": [
    {
      "cell_type": "markdown",
      "metadata": {
        "id": "view-in-github",
        "colab_type": "text"
      },
      "source": [
        "<a href=\"https://colab.research.google.com/github/djmikesell-source/Skool/blob/main/ANL_ProjectClassifyAuroraIntensity2.ipynb\" target=\"_parent\"><img src=\"https://colab.research.google.com/assets/colab-badge.svg\" alt=\"Open In Colab\"/></a>"
      ]
    },
    {
      "cell_type": "markdown",
      "source": [
        "1. Read the data from the file and store it in a list\n",
        "(This part is done for you). You just need to run the code."
      ],
      "metadata": {
        "id": "3DKyNPcEVWwH"
      }
    },
    {
      "cell_type": "code",
      "source": [
        "import pandas as pd\n",
        "df = pd.read_csv(\"https://docs.google.com/spreadsheets/d/e/2PACX-1vRSG45CklRWr-Im6ES_prf5-h2zJwKENYguR-4bGHJkorztX-CWZmKMaeRl-NuvGbGOTmhmWlrn5Lxl/pub?output=csv \")\n",
        "kpIndices = df.Kp.tolist() #kpIndices stores the list of all the Kp Index\n",
        "numElements = len(kpIndices) #numElements stores the total number of elements stored in kpIndices"
      ],
      "metadata": {
        "id": "Dg7kq589L2wz"
      },
      "execution_count": null,
      "outputs": []
    },
    {
      "cell_type": "markdown",
      "source": [
        "2. Print the type of `kpIndices` and the value of its first and last element"
      ],
      "metadata": {
        "id": "4KYd7-hwZ0SC"
      }
    },
    {
      "cell_type": "code",
      "source": [
        "print(kpIndices[2])\n",
        "print(kpIndices[]) #Print the first element - What does python's indexing start at\n",
        "print(kpIndices[]) #Print the last element - What index will call the last element"
      ],
      "metadata": {
        "id": "j--aNz7VaEsz",
        "colab": {
          "base_uri": "https://localhost:8080/"
        },
        "outputId": "80d3395b-d541-4e3f-b7b7-8fedc3f8ab50"
      },
      "execution_count": null,
      "outputs": [
        {
          "output_type": "stream",
          "name": "stdout",
          "text": [
            "1.333\n"
          ]
        }
      ]
    },
    {
      "cell_type": "markdown",
      "source": [
        "3. Calculate total number of days for which data is available. Store it in a variable `numDays`. Given, for every day 8 readings are available\n",
        ""
      ],
      "metadata": {
        "id": "SbjRxkaKpJcn"
      }
    },
    {
      "cell_type": "code",
      "source": [
        "numReadingPerDay = 8 #given\n",
        "#write your code here\n",
        "\n",
        "\n"
      ],
      "metadata": {
        "id": "zGuUZnK9pn5C"
      },
      "execution_count": null,
      "outputs": []
    },
    {
      "cell_type": "markdown",
      "source": [
        "2. Write the code to classify the aurora (7pts)"
      ],
      "metadata": {
        "id": "tY28O5xaaOJ0"
      }
    },
    {
      "cell_type": "code",
      "source": [
        "print(\"The average auroral intensity of each day of Jun 2022 are as follows:\")\n",
        "dayCount = 1\n",
        "dailyReadingCount = 1\n",
        "while(dayCount <= numDays):\n",
        "  sum = 0\n",
        "  #[2pts] Formulate the while loop condition\n",
        "  while(                                  ):\n",
        "    #[2pts] Calculate the sum of each day\n",
        "\n",
        "\n",
        "\n",
        "    dailyReadingCount += 1 #End of inner while loop\n",
        "\n",
        "  #[1pt] Calculate the avg\n",
        "\n",
        "\n",
        "\n",
        "  #[2pt] Classify the auroral intensity using if-elif-else\n",
        "\n",
        "\n",
        "\n",
        "\n",
        "\n",
        "\n",
        "\n",
        "\n",
        "\n",
        "\n",
        "\n",
        "\n",
        "  dayCount += 1 #End of outer while loop\n"
      ],
      "metadata": {
        "id": "nfNoAbWwbDvl"
      },
      "execution_count": null,
      "outputs": []
    }
  ]
}